{
  "nbformat": 4,
  "nbformat_minor": 0,
  "metadata": {
    "colab": {
      "name": "feather-example.ipynb",
      "provenance": [],
      "authorship_tag": "ABX9TyPPq0jAK7zClEZPwwPeil1H",
      "include_colab_link": true
    },
    "kernelspec": {
      "name": "python3",
      "display_name": "Python 3"
    },
    "language_info": {
      "name": "python"
    }
  },
  "cells": [
    {
      "cell_type": "markdown",
      "metadata": {
        "id": "view-in-github",
        "colab_type": "text"
      },
      "source": [
        "<a href=\"https://colab.research.google.com/github/quido18/quido18/blob/main/feather_example.ipynb\" target=\"_parent\"><img src=\"https://colab.research.google.com/assets/colab-badge.svg\" alt=\"Open In Colab\"/></a>"
      ]
    },
    {
      "cell_type": "code",
      "metadata": {
        "colab": {
          "base_uri": "https://localhost:8080/",
          "height": 204
        },
        "id": "G3tIw8fgaQu6",
        "outputId": "b2b6aa61-752a-4348-8bef-48049a449ba9"
      },
      "source": [
        "import feather\n",
        "import numpy as np\n",
        "import pandas as pd\n",
        "\n",
        "np.random.seed = 42\n",
        "df_size = 10_000_000\n",
        "\n",
        "df = pd.DataFrame({\n",
        "    'a': np.random.rand(df_size),\n",
        "    'b': np.random.rand(df_size),\n",
        "    'c': np.random.rand(df_size),\n",
        "    'd': np.random.rand(df_size),\n",
        "    'e': np.random.rand(df_size)\n",
        "})\n",
        "df.head()"
      ],
      "execution_count": 1,
      "outputs": [
        {
          "output_type": "execute_result",
          "data": {
            "text/html": [
              "<div>\n",
              "<style scoped>\n",
              "    .dataframe tbody tr th:only-of-type {\n",
              "        vertical-align: middle;\n",
              "    }\n",
              "\n",
              "    .dataframe tbody tr th {\n",
              "        vertical-align: top;\n",
              "    }\n",
              "\n",
              "    .dataframe thead th {\n",
              "        text-align: right;\n",
              "    }\n",
              "</style>\n",
              "<table border=\"1\" class=\"dataframe\">\n",
              "  <thead>\n",
              "    <tr style=\"text-align: right;\">\n",
              "      <th></th>\n",
              "      <th>a</th>\n",
              "      <th>b</th>\n",
              "      <th>c</th>\n",
              "      <th>d</th>\n",
              "      <th>e</th>\n",
              "    </tr>\n",
              "  </thead>\n",
              "  <tbody>\n",
              "    <tr>\n",
              "      <th>0</th>\n",
              "      <td>0.122932</td>\n",
              "      <td>0.162662</td>\n",
              "      <td>0.174981</td>\n",
              "      <td>0.229077</td>\n",
              "      <td>0.921279</td>\n",
              "    </tr>\n",
              "    <tr>\n",
              "      <th>1</th>\n",
              "      <td>0.397131</td>\n",
              "      <td>0.904987</td>\n",
              "      <td>0.216253</td>\n",
              "      <td>0.051355</td>\n",
              "      <td>0.150831</td>\n",
              "    </tr>\n",
              "    <tr>\n",
              "      <th>2</th>\n",
              "      <td>0.312549</td>\n",
              "      <td>0.596645</td>\n",
              "      <td>0.822255</td>\n",
              "      <td>0.509084</td>\n",
              "      <td>0.530452</td>\n",
              "    </tr>\n",
              "    <tr>\n",
              "      <th>3</th>\n",
              "      <td>0.827123</td>\n",
              "      <td>0.630947</td>\n",
              "      <td>0.697998</td>\n",
              "      <td>0.560676</td>\n",
              "      <td>0.175943</td>\n",
              "    </tr>\n",
              "    <tr>\n",
              "      <th>4</th>\n",
              "      <td>0.728207</td>\n",
              "      <td>0.198530</td>\n",
              "      <td>0.293967</td>\n",
              "      <td>0.549405</td>\n",
              "      <td>0.398529</td>\n",
              "    </tr>\n",
              "  </tbody>\n",
              "</table>\n",
              "</div>"
            ],
            "text/plain": [
              "          a         b         c         d         e\n",
              "0  0.122932  0.162662  0.174981  0.229077  0.921279\n",
              "1  0.397131  0.904987  0.216253  0.051355  0.150831\n",
              "2  0.312549  0.596645  0.822255  0.509084  0.530452\n",
              "3  0.827123  0.630947  0.697998  0.560676  0.175943\n",
              "4  0.728207  0.198530  0.293967  0.549405  0.398529"
            ]
          },
          "metadata": {},
          "execution_count": 1
        }
      ]
    },
    {
      "cell_type": "code",
      "metadata": {
        "id": "3CWqlK6TaW1G"
      },
      "source": [
        "df.to_feather('1M.feather')"
      ],
      "execution_count": 2,
      "outputs": []
    }
  ]
}